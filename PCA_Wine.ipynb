{
 "cells": [
  {
   "cell_type": "code",
   "execution_count": 1,
   "metadata": {},
   "outputs": [],
   "source": [
    "import numpy as np\n",
    "import pandas as pd "
   ]
  },
  {
   "cell_type": "markdown",
   "metadata": {},
   "source": [
    "Loading the dataset "
   ]
  },
  {
   "cell_type": "code",
   "execution_count": 2,
   "metadata": {},
   "outputs": [],
   "source": [
    "wine = pd.read_csv('Wine.csv', sep= ',')"
   ]
  },
  {
   "cell_type": "code",
   "execution_count": 3,
   "metadata": {},
   "outputs": [
    {
     "data": {
      "text/html": [
       "<div>\n",
       "<style scoped>\n",
       "    .dataframe tbody tr th:only-of-type {\n",
       "        vertical-align: middle;\n",
       "    }\n",
       "\n",
       "    .dataframe tbody tr th {\n",
       "        vertical-align: top;\n",
       "    }\n",
       "\n",
       "    .dataframe thead th {\n",
       "        text-align: right;\n",
       "    }\n",
       "</style>\n",
       "<table border=\"1\" class=\"dataframe\">\n",
       "  <thead>\n",
       "    <tr style=\"text-align: right;\">\n",
       "      <th></th>\n",
       "      <th>Alcohol</th>\n",
       "      <th>Malic_Acid</th>\n",
       "      <th>Ash</th>\n",
       "      <th>Ash_Alcanity</th>\n",
       "      <th>Magnesium</th>\n",
       "      <th>Total_Phenols</th>\n",
       "      <th>Flavanoids</th>\n",
       "      <th>Nonflavanoid_Phenols</th>\n",
       "      <th>Proanthocyanins</th>\n",
       "      <th>Color_Intensity</th>\n",
       "      <th>Hue</th>\n",
       "      <th>OD280</th>\n",
       "      <th>Proline</th>\n",
       "      <th>Customer_Segment</th>\n",
       "    </tr>\n",
       "  </thead>\n",
       "  <tbody>\n",
       "    <tr>\n",
       "      <th>0</th>\n",
       "      <td>14.23</td>\n",
       "      <td>1.71</td>\n",
       "      <td>2.43</td>\n",
       "      <td>15.6</td>\n",
       "      <td>127</td>\n",
       "      <td>2.80</td>\n",
       "      <td>3.06</td>\n",
       "      <td>0.28</td>\n",
       "      <td>2.29</td>\n",
       "      <td>5.64</td>\n",
       "      <td>1.04</td>\n",
       "      <td>3.92</td>\n",
       "      <td>1065</td>\n",
       "      <td>1</td>\n",
       "    </tr>\n",
       "    <tr>\n",
       "      <th>1</th>\n",
       "      <td>13.20</td>\n",
       "      <td>1.78</td>\n",
       "      <td>2.14</td>\n",
       "      <td>11.2</td>\n",
       "      <td>100</td>\n",
       "      <td>2.65</td>\n",
       "      <td>2.76</td>\n",
       "      <td>0.26</td>\n",
       "      <td>1.28</td>\n",
       "      <td>4.38</td>\n",
       "      <td>1.05</td>\n",
       "      <td>3.40</td>\n",
       "      <td>1050</td>\n",
       "      <td>1</td>\n",
       "    </tr>\n",
       "    <tr>\n",
       "      <th>2</th>\n",
       "      <td>13.16</td>\n",
       "      <td>2.36</td>\n",
       "      <td>2.67</td>\n",
       "      <td>18.6</td>\n",
       "      <td>101</td>\n",
       "      <td>2.80</td>\n",
       "      <td>3.24</td>\n",
       "      <td>0.30</td>\n",
       "      <td>2.81</td>\n",
       "      <td>5.68</td>\n",
       "      <td>1.03</td>\n",
       "      <td>3.17</td>\n",
       "      <td>1185</td>\n",
       "      <td>1</td>\n",
       "    </tr>\n",
       "    <tr>\n",
       "      <th>3</th>\n",
       "      <td>14.37</td>\n",
       "      <td>1.95</td>\n",
       "      <td>2.50</td>\n",
       "      <td>16.8</td>\n",
       "      <td>113</td>\n",
       "      <td>3.85</td>\n",
       "      <td>3.49</td>\n",
       "      <td>0.24</td>\n",
       "      <td>2.18</td>\n",
       "      <td>7.80</td>\n",
       "      <td>0.86</td>\n",
       "      <td>3.45</td>\n",
       "      <td>1480</td>\n",
       "      <td>1</td>\n",
       "    </tr>\n",
       "    <tr>\n",
       "      <th>4</th>\n",
       "      <td>13.24</td>\n",
       "      <td>2.59</td>\n",
       "      <td>2.87</td>\n",
       "      <td>21.0</td>\n",
       "      <td>118</td>\n",
       "      <td>2.80</td>\n",
       "      <td>2.69</td>\n",
       "      <td>0.39</td>\n",
       "      <td>1.82</td>\n",
       "      <td>4.32</td>\n",
       "      <td>1.04</td>\n",
       "      <td>2.93</td>\n",
       "      <td>735</td>\n",
       "      <td>1</td>\n",
       "    </tr>\n",
       "  </tbody>\n",
       "</table>\n",
       "</div>"
      ],
      "text/plain": [
       "   Alcohol  Malic_Acid   Ash  Ash_Alcanity  Magnesium  Total_Phenols  \\\n",
       "0    14.23        1.71  2.43          15.6        127           2.80   \n",
       "1    13.20        1.78  2.14          11.2        100           2.65   \n",
       "2    13.16        2.36  2.67          18.6        101           2.80   \n",
       "3    14.37        1.95  2.50          16.8        113           3.85   \n",
       "4    13.24        2.59  2.87          21.0        118           2.80   \n",
       "\n",
       "   Flavanoids  Nonflavanoid_Phenols  Proanthocyanins  Color_Intensity   Hue  \\\n",
       "0        3.06                  0.28             2.29             5.64  1.04   \n",
       "1        2.76                  0.26             1.28             4.38  1.05   \n",
       "2        3.24                  0.30             2.81             5.68  1.03   \n",
       "3        3.49                  0.24             2.18             7.80  0.86   \n",
       "4        2.69                  0.39             1.82             4.32  1.04   \n",
       "\n",
       "   OD280  Proline  Customer_Segment  \n",
       "0   3.92     1065                 1  \n",
       "1   3.40     1050                 1  \n",
       "2   3.17     1185                 1  \n",
       "3   3.45     1480                 1  \n",
       "4   2.93      735                 1  "
      ]
     },
     "execution_count": 3,
     "metadata": {},
     "output_type": "execute_result"
    }
   ],
   "source": [
    "wine.head()"
   ]
  },
  {
   "cell_type": "code",
   "execution_count": 4,
   "metadata": {},
   "outputs": [
    {
     "name": "stderr",
     "output_type": "stream",
     "text": [
      "z:\\ms\\anaconda\\envs\\tensorflow\\lib\\site-packages\\ipykernel_launcher.py:3: DeprecationWarning: \n",
      ".ix is deprecated. Please use\n",
      ".loc for label based indexing or\n",
      ".iloc for positional indexing\n",
      "\n",
      "See the documentation here:\n",
      "http://pandas.pydata.org/pandas-docs/stable/indexing.html#ix-indexer-is-deprecated\n",
      "  This is separate from the ipykernel package so we can avoid doing imports until\n"
     ]
    }
   ],
   "source": [
    "#Split the dataset into X containing all the features and Y containing only the target. \n",
    "\n",
    "X = wine.ix[:, 0:13].values\n",
    "y = wine.ix[:, 13].values"
   ]
  },
  {
   "cell_type": "markdown",
   "metadata": {},
   "source": [
    "Standardizing "
   ]
  },
  {
   "cell_type": "code",
   "execution_count": 5,
   "metadata": {},
   "outputs": [],
   "source": [
    "from sklearn.preprocessing import StandardScaler"
   ]
  },
  {
   "cell_type": "code",
   "execution_count": 6,
   "metadata": {},
   "outputs": [],
   "source": [
    "X_std = StandardScaler().fit_transform(X)"
   ]
  },
  {
   "cell_type": "markdown",
   "metadata": {},
   "source": [
    "1) Eigendecomposition - Computing Eigenvectors and Eigenvalues "
   ]
  },
  {
   "cell_type": "code",
   "execution_count": 7,
   "metadata": {},
   "outputs": [
    {
     "name": "stdout",
     "output_type": "stream",
     "text": [
      "Covariance matrix \n",
      "[[ 1.00564972  0.09493026  0.21273976 -0.31198788  0.27232816  0.29073446\n",
      "   0.23815287 -0.15681042  0.13747022  0.549451   -0.07215255  0.07275191\n",
      "   0.64735687]\n",
      " [ 0.09493026  1.00564972  0.16497228  0.29013035 -0.05488343 -0.3370606\n",
      "  -0.41332866  0.29463237 -0.22199334  0.25039204 -0.56446685 -0.37079354\n",
      "  -0.19309537]\n",
      " [ 0.21273976  0.16497228  1.00564972  0.44587209  0.28820583  0.12970824\n",
      "   0.11572743  0.1872826   0.00970647  0.2603499  -0.07508874  0.00393333\n",
      "   0.22488969]\n",
      " [-0.31198788  0.29013035  0.44587209  1.00564972 -0.0838039  -0.32292752\n",
      "  -0.353355    0.36396647 -0.19844168  0.01883781 -0.27550299 -0.27833221\n",
      "  -0.44308618]\n",
      " [ 0.27232816 -0.05488343  0.28820583 -0.0838039   1.00564972  0.21561254\n",
      "   0.19688989 -0.25774204  0.23777643  0.20107967  0.05571118  0.06637684\n",
      "   0.39557317]\n",
      " [ 0.29073446 -0.3370606   0.12970824 -0.32292752  0.21561254  1.00564972\n",
      "   0.86944804 -0.45247731  0.61587304 -0.05544792  0.43613151  0.70390388\n",
      "   0.50092909]\n",
      " [ 0.23815287 -0.41332866  0.11572743 -0.353355    0.19688989  0.86944804\n",
      "   1.00564972 -0.54093859  0.65637929 -0.17335329  0.54654907  0.79164133\n",
      "   0.49698518]\n",
      " [-0.15681042  0.29463237  0.1872826   0.36396647 -0.25774204 -0.45247731\n",
      "  -0.54093859  1.00564972 -0.36791202  0.13984265 -0.26412347 -0.50611293\n",
      "  -0.31314443]\n",
      " [ 0.13747022 -0.22199334  0.00970647 -0.19844168  0.23777643  0.61587304\n",
      "   0.65637929 -0.36791202  1.00564972 -0.02539259  0.29721399  0.52199968\n",
      "   0.33228346]\n",
      " [ 0.549451    0.25039204  0.2603499   0.01883781  0.20107967 -0.05544792\n",
      "  -0.17335329  0.13984265 -0.02539259  1.00564972 -0.52476129 -0.43123763\n",
      "   0.31788599]\n",
      " [-0.07215255 -0.56446685 -0.07508874 -0.27550299  0.05571118  0.43613151\n",
      "   0.54654907 -0.26412347  0.29721399 -0.52476129  1.00564972  0.56866303\n",
      "   0.23751782]\n",
      " [ 0.07275191 -0.37079354  0.00393333 -0.27833221  0.06637684  0.70390388\n",
      "   0.79164133 -0.50611293  0.52199968 -0.43123763  0.56866303  1.00564972\n",
      "   0.31452809]\n",
      " [ 0.64735687 -0.19309537  0.22488969 -0.44308618  0.39557317  0.50092909\n",
      "   0.49698518 -0.31314443  0.33228346  0.31788599  0.23751782  0.31452809\n",
      "   1.00564972]]\n"
     ]
    }
   ],
   "source": [
    "mean_vec = np.mean(X_std, axis =0)\n",
    "\n",
    "cov_mat = (X_std - mean_vec).T.dot((X_std - mean_vec) / (X_std.shape[0] -1))\n",
    "\n",
    "print ('Covariance matrix \\n%s' %cov_mat)"
   ]
  },
  {
   "cell_type": "markdown",
   "metadata": {},
   "source": [
    "Now that we have created the covariance matrix. We will perform the eigendecomposistion. "
   ]
  },
  {
   "cell_type": "code",
   "execution_count": 8,
   "metadata": {},
   "outputs": [
    {
     "name": "stdout",
     "output_type": "stream",
     "text": [
      "Eigenvectors \n",
      "[[-0.1443294   0.48365155  0.20738262 -0.0178563  -0.26566365  0.21353865\n",
      "   0.05639636 -0.01496997  0.39613926 -0.26628645 -0.50861912 -0.22591696\n",
      "   0.21160473]\n",
      " [ 0.24518758  0.22493093 -0.08901289  0.53689028  0.03521363  0.53681385\n",
      "  -0.42052391 -0.02596375  0.06582674  0.12169604  0.07528304  0.07648554\n",
      "  -0.30907994]\n",
      " [ 0.00205106  0.31606881 -0.6262239  -0.21417556 -0.14302547  0.15447466\n",
      "   0.14917061  0.14121803 -0.17026002 -0.04962237  0.30769445 -0.49869142\n",
      "  -0.02712539]\n",
      " [ 0.23932041 -0.0105905  -0.61208035  0.06085941  0.06610294 -0.10082451\n",
      "   0.28696914 -0.09168285  0.42797018 -0.05574287 -0.20044931  0.47931378\n",
      "   0.05279942]\n",
      " [-0.14199204  0.299634   -0.13075693 -0.35179658  0.72704851  0.03814394\n",
      "  -0.3228833  -0.05677422 -0.15636143  0.06222011 -0.27140257  0.07128891\n",
      "   0.06787022]\n",
      " [-0.39466085  0.06503951 -0.14617896  0.19806835 -0.14931841 -0.0841223\n",
      "   0.02792498  0.46390791 -0.40593409 -0.30388245 -0.28603452  0.30434119\n",
      "  -0.32013135]\n",
      " [-0.4229343  -0.00335981 -0.1506819   0.15229479 -0.10902584 -0.01892002\n",
      "   0.06068521 -0.83225706 -0.18724536 -0.04289883 -0.04957849 -0.02569409\n",
      "  -0.16315051]\n",
      " [ 0.2985331   0.02877949 -0.17036816 -0.20330102 -0.50070298 -0.25859401\n",
      "  -0.59544729 -0.11403985 -0.23328465  0.04235219 -0.19550132  0.11689586\n",
      "   0.21553507]\n",
      " [-0.31342949  0.03930172 -0.14945431  0.39905653  0.13685982 -0.53379539\n",
      "  -0.37213935  0.11691707  0.36822675 -0.09555303  0.20914487 -0.23736257\n",
      "   0.1341839 ]\n",
      " [ 0.0886167   0.52999567  0.13730621  0.06592568 -0.07643678 -0.41864414\n",
      "   0.22771214  0.0119928  -0.03379692  0.60422163 -0.05621752  0.0318388\n",
      "  -0.29077518]\n",
      " [-0.29671456 -0.27923515 -0.08522192 -0.42777141 -0.17361452  0.10598274\n",
      "  -0.23207564  0.08988884  0.43662362  0.259214   -0.08582839 -0.04821201\n",
      "  -0.52239889]\n",
      " [-0.37616741 -0.16449619 -0.16600459  0.18412074 -0.10116099  0.26585107\n",
      "   0.0447637   0.15671813 -0.07810789  0.60095872 -0.1372269   0.0464233\n",
      "   0.52370587]\n",
      " [-0.28675223  0.36490283  0.12674592 -0.23207086 -0.1578688   0.11972557\n",
      "  -0.0768045  -0.01444734  0.12002267 -0.07940162  0.57578611  0.53926983\n",
      "   0.162116  ]]\n",
      "Eigenvalues \n",
      "[4.73243698 2.51108093 1.45424187 0.92416587 0.85804868 0.64528221\n",
      " 0.55414147 0.10396199 0.35046627 0.16972374 0.29051203 0.22706428\n",
      " 0.25232001]\n"
     ]
    }
   ],
   "source": [
    "eig_vals , eig_vec = np.linalg.eig(cov_mat)\n",
    "\n",
    "print ('Eigenvectors \\n%s' %eig_vec)\n",
    "print('Eigenvalues \\n%s' %eig_vals)"
   ]
  },
  {
   "cell_type": "markdown",
   "metadata": {},
   "source": [
    "2) Selecting Principal components "
   ]
  },
  {
   "cell_type": "code",
   "execution_count": 9,
   "metadata": {},
   "outputs": [],
   "source": [
    "import plotly\n"
   ]
  },
  {
   "cell_type": "code",
   "execution_count": 10,
   "metadata": {},
   "outputs": [],
   "source": [
    "import plotly.plotly as py\n",
    "from plotly.graph_objs import *\n",
    "import plotly.tools as tls"
   ]
  },
  {
   "cell_type": "code",
   "execution_count": 11,
   "metadata": {},
   "outputs": [],
   "source": [
    "plotly.tools.set_credentials_file(username='amunn3', api_key='jsiTe0sgkxajYJ8fUPbs')"
   ]
  },
  {
   "cell_type": "code",
   "execution_count": 12,
   "metadata": {},
   "outputs": [
    {
     "name": "stdout",
     "output_type": "stream",
     "text": [
      "Eigenvalues in descending order:\n",
      "4.7324369775835935\n",
      "2.5110809296451224\n",
      "1.4542418678464695\n",
      "0.924165866824874\n",
      "0.8580486765371126\n",
      "0.6452822124678544\n",
      "0.5541414662457842\n",
      "0.3504662749462541\n",
      "0.2905120326939773\n",
      "0.2523200103608247\n",
      "0.22706428173088522\n",
      "0.1697237389801211\n",
      "0.10396199182075297\n"
     ]
    }
   ],
   "source": [
    "# Make a list of (eigenvalue, eigenvector) tuples\n",
    "eig_pairs = [(np.abs(eig_vals[i]), eig_vec[:,i]) for i in range(len(eig_vals))]\n",
    "\n",
    "# Sort the (eigenvalue, eigenvector) tuples from high to low\n",
    "eig_pairs.sort()\n",
    "eig_pairs.reverse()\n",
    "\n",
    "# Visually confirm that the list is correctly sorted by decreasing eigenvalues\n",
    "print('Eigenvalues in descending order:')\n",
    "for i in eig_pairs:\n",
    "    print(i[0])"
   ]
  },
  {
   "cell_type": "code",
   "execution_count": 13,
   "metadata": {},
   "outputs": [
    {
     "data": {
      "text/html": [
       "<iframe id=\"igraph\" scrolling=\"no\" style=\"border:none;\" seamless=\"seamless\" src=\"https://plot.ly/~amunn3/32.embed\" height=\"525px\" width=\"100%\"></iframe>"
      ],
      "text/plain": [
       "<plotly.tools.PlotlyDisplay object>"
      ]
     },
     "execution_count": 13,
     "metadata": {},
     "output_type": "execute_result"
    }
   ],
   "source": [
    "tot = sum(eig_vals)\n",
    "var_exp = [(i / tot)*100 for i in sorted(eig_vals, reverse=True)]\n",
    "cum_var_exp = np.cumsum(var_exp)\n",
    "\n",
    "trace1 = Bar(\n",
    "        x=['PC %s' %i for i in range(1,14)],\n",
    "        y=var_exp,\n",
    "        showlegend=False)\n",
    "\n",
    "trace2 = Scatter(\n",
    "        x=['PC %s' %i for i in range(1,14)], \n",
    "        y=cum_var_exp,\n",
    "        name='cumulative explained variance')\n",
    "\n",
    "data = Data([trace1, trace2])\n",
    "\n",
    "layout=Layout(\n",
    "        yaxis=YAxis(title='Explained variance in percent'),\n",
    "        title='Explained variance by different principal components')\n",
    "\n",
    "fig = Figure(data=data, layout=layout)\n",
    "py.iplot(fig)"
   ]
  },
  {
   "cell_type": "markdown",
   "metadata": {},
   "source": [
    "The construction of the projection matrix that will be used to transform the wine data onto the new feature subspace."
   ]
  },
  {
   "cell_type": "code",
   "execution_count": 14,
   "metadata": {},
   "outputs": [
    {
     "name": "stdout",
     "output_type": "stream",
     "text": [
      "Matrix W:\n",
      " [[-0.1443294   0.48365155]\n",
      " [ 0.24518758  0.22493093]\n",
      " [ 0.00205106  0.31606881]\n",
      " [ 0.23932041 -0.0105905 ]\n",
      " [-0.14199204  0.299634  ]\n",
      " [-0.39466085  0.06503951]\n",
      " [-0.4229343  -0.00335981]\n",
      " [ 0.2985331   0.02877949]\n",
      " [-0.31342949  0.03930172]\n",
      " [ 0.0886167   0.52999567]\n",
      " [-0.29671456 -0.27923515]\n",
      " [-0.37616741 -0.16449619]\n",
      " [-0.28675223  0.36490283]]\n"
     ]
    }
   ],
   "source": [
    "matrix_w = np.hstack((eig_pairs[0][1].reshape(13,1), \n",
    "                      eig_pairs[1][1].reshape(13,1)))\n",
    "\n",
    "print('Matrix W:\\n', matrix_w)"
   ]
  },
  {
   "cell_type": "markdown",
   "metadata": {},
   "source": [
    "3) Project onto new feature subspace"
   ]
  },
  {
   "cell_type": "code",
   "execution_count": 16,
   "metadata": {},
   "outputs": [],
   "source": [
    "Y = X_std.dot(matrix_w)"
   ]
  },
  {
   "cell_type": "code",
   "execution_count": 17,
   "metadata": {
    "scrolled": false
   },
   "outputs": [
    {
     "data": {
      "text/html": [
       "<iframe id=\"igraph\" scrolling=\"no\" style=\"border:none;\" seamless=\"seamless\" src=\"https://plot.ly/~amunn3/34.embed\" height=\"525px\" width=\"100%\"></iframe>"
      ],
      "text/plain": [
       "<plotly.tools.PlotlyDisplay object>"
      ]
     },
     "execution_count": 17,
     "metadata": {},
     "output_type": "execute_result"
    }
   ],
   "source": [
    "traces = []\n",
    "\n",
    "for name in (1, 2, 3):\n",
    "\n",
    "    trace = Scatter(\n",
    "        x=Y[y==name,0],\n",
    "        y=Y[y==name,1],\n",
    "        mode='markers',\n",
    "        name=name,\n",
    "        marker=Marker(\n",
    "            size=12,\n",
    "            line=Line(\n",
    "                color='rgba(217, 217, 217, 0.14)',\n",
    "                width=0.5),\n",
    "            opacity=0.8))\n",
    "    traces.append(trace)\n",
    "\n",
    "\n",
    "data = Data(traces)\n",
    "layout = Layout(showlegend=True,\n",
    "                scene=Scene(xaxis=XAxis(title='PC1'),\n",
    "                yaxis=YAxis(title='PC2')), \n",
    "                xaxis=XAxis(title='PC1'),\n",
    "                yaxis=YAxis(title='PC2'))\n",
    "\n",
    "fig = Figure(data=data, layout=layout)\n",
    "py.iplot(fig)"
   ]
  },
  {
   "cell_type": "code",
   "execution_count": 18,
   "metadata": {},
   "outputs": [],
   "source": [
    "import plotly.graph_objs as go"
   ]
  },
  {
   "cell_type": "code",
   "execution_count": 19,
   "metadata": {},
   "outputs": [],
   "source": [
    "X1 = wine.ix[:,0:13]"
   ]
  },
  {
   "cell_type": "code",
   "execution_count": 20,
   "metadata": {},
   "outputs": [],
   "source": [
    "X_norm = (X1 - X1.min())/(X1.max() - X1.min())"
   ]
  },
  {
   "cell_type": "code",
   "execution_count": 21,
   "metadata": {},
   "outputs": [
    {
     "data": {
      "text/html": [
       "<div>\n",
       "<style scoped>\n",
       "    .dataframe tbody tr th:only-of-type {\n",
       "        vertical-align: middle;\n",
       "    }\n",
       "\n",
       "    .dataframe tbody tr th {\n",
       "        vertical-align: top;\n",
       "    }\n",
       "\n",
       "    .dataframe thead th {\n",
       "        text-align: right;\n",
       "    }\n",
       "</style>\n",
       "<table border=\"1\" class=\"dataframe\">\n",
       "  <thead>\n",
       "    <tr style=\"text-align: right;\">\n",
       "      <th></th>\n",
       "      <th>Alcohol</th>\n",
       "      <th>Malic_Acid</th>\n",
       "      <th>Ash</th>\n",
       "      <th>Ash_Alcanity</th>\n",
       "      <th>Magnesium</th>\n",
       "      <th>Total_Phenols</th>\n",
       "      <th>Flavanoids</th>\n",
       "      <th>Nonflavanoid_Phenols</th>\n",
       "      <th>Proanthocyanins</th>\n",
       "      <th>Color_Intensity</th>\n",
       "      <th>Hue</th>\n",
       "      <th>OD280</th>\n",
       "      <th>Proline</th>\n",
       "    </tr>\n",
       "  </thead>\n",
       "  <tbody>\n",
       "    <tr>\n",
       "      <th>0</th>\n",
       "      <td>0.842105</td>\n",
       "      <td>0.191700</td>\n",
       "      <td>0.572193</td>\n",
       "      <td>0.257732</td>\n",
       "      <td>0.619565</td>\n",
       "      <td>0.627586</td>\n",
       "      <td>0.573840</td>\n",
       "      <td>0.283019</td>\n",
       "      <td>0.593060</td>\n",
       "      <td>0.372014</td>\n",
       "      <td>0.455285</td>\n",
       "      <td>0.970696</td>\n",
       "      <td>0.561341</td>\n",
       "    </tr>\n",
       "    <tr>\n",
       "      <th>1</th>\n",
       "      <td>0.571053</td>\n",
       "      <td>0.205534</td>\n",
       "      <td>0.417112</td>\n",
       "      <td>0.030928</td>\n",
       "      <td>0.326087</td>\n",
       "      <td>0.575862</td>\n",
       "      <td>0.510549</td>\n",
       "      <td>0.245283</td>\n",
       "      <td>0.274448</td>\n",
       "      <td>0.264505</td>\n",
       "      <td>0.463415</td>\n",
       "      <td>0.780220</td>\n",
       "      <td>0.550642</td>\n",
       "    </tr>\n",
       "    <tr>\n",
       "      <th>2</th>\n",
       "      <td>0.560526</td>\n",
       "      <td>0.320158</td>\n",
       "      <td>0.700535</td>\n",
       "      <td>0.412371</td>\n",
       "      <td>0.336957</td>\n",
       "      <td>0.627586</td>\n",
       "      <td>0.611814</td>\n",
       "      <td>0.320755</td>\n",
       "      <td>0.757098</td>\n",
       "      <td>0.375427</td>\n",
       "      <td>0.447154</td>\n",
       "      <td>0.695971</td>\n",
       "      <td>0.646933</td>\n",
       "    </tr>\n",
       "    <tr>\n",
       "      <th>3</th>\n",
       "      <td>0.878947</td>\n",
       "      <td>0.239130</td>\n",
       "      <td>0.609626</td>\n",
       "      <td>0.319588</td>\n",
       "      <td>0.467391</td>\n",
       "      <td>0.989655</td>\n",
       "      <td>0.664557</td>\n",
       "      <td>0.207547</td>\n",
       "      <td>0.558360</td>\n",
       "      <td>0.556314</td>\n",
       "      <td>0.308943</td>\n",
       "      <td>0.798535</td>\n",
       "      <td>0.857347</td>\n",
       "    </tr>\n",
       "    <tr>\n",
       "      <th>4</th>\n",
       "      <td>0.581579</td>\n",
       "      <td>0.365613</td>\n",
       "      <td>0.807487</td>\n",
       "      <td>0.536082</td>\n",
       "      <td>0.521739</td>\n",
       "      <td>0.627586</td>\n",
       "      <td>0.495781</td>\n",
       "      <td>0.490566</td>\n",
       "      <td>0.444795</td>\n",
       "      <td>0.259386</td>\n",
       "      <td>0.455285</td>\n",
       "      <td>0.608059</td>\n",
       "      <td>0.325963</td>\n",
       "    </tr>\n",
       "  </tbody>\n",
       "</table>\n",
       "</div>"
      ],
      "text/plain": [
       "    Alcohol  Malic_Acid       Ash  Ash_Alcanity  Magnesium  Total_Phenols  \\\n",
       "0  0.842105    0.191700  0.572193      0.257732   0.619565       0.627586   \n",
       "1  0.571053    0.205534  0.417112      0.030928   0.326087       0.575862   \n",
       "2  0.560526    0.320158  0.700535      0.412371   0.336957       0.627586   \n",
       "3  0.878947    0.239130  0.609626      0.319588   0.467391       0.989655   \n",
       "4  0.581579    0.365613  0.807487      0.536082   0.521739       0.627586   \n",
       "\n",
       "   Flavanoids  Nonflavanoid_Phenols  Proanthocyanins  Color_Intensity  \\\n",
       "0    0.573840              0.283019         0.593060         0.372014   \n",
       "1    0.510549              0.245283         0.274448         0.264505   \n",
       "2    0.611814              0.320755         0.757098         0.375427   \n",
       "3    0.664557              0.207547         0.558360         0.556314   \n",
       "4    0.495781              0.490566         0.444795         0.259386   \n",
       "\n",
       "        Hue     OD280   Proline  \n",
       "0  0.455285  0.970696  0.561341  \n",
       "1  0.463415  0.780220  0.550642  \n",
       "2  0.447154  0.695971  0.646933  \n",
       "3  0.308943  0.798535  0.857347  \n",
       "4  0.455285  0.608059  0.325963  "
      ]
     },
     "execution_count": 21,
     "metadata": {},
     "output_type": "execute_result"
    }
   ],
   "source": [
    "X_norm.head()"
   ]
  },
  {
   "cell_type": "code",
   "execution_count": 22,
   "metadata": {},
   "outputs": [
    {
     "data": {
      "text/html": [
       "<iframe id=\"igraph\" scrolling=\"no\" style=\"border:none;\" seamless=\"seamless\" src=\"https://plot.ly/~amunn3/30.embed\" height=\"525px\" width=\"100%\"></iframe>"
      ],
      "text/plain": [
       "<plotly.tools.PlotlyDisplay object>"
      ]
     },
     "execution_count": 22,
     "metadata": {},
     "output_type": "execute_result"
    }
   ],
   "source": [
    "data = [\n",
    "    go.Parcoords(\n",
    "        line = dict(color = wine['Customer_Segment'],\n",
    "                   colorscale = [[0,'#D7C16B'],[0.5,'#23D8C3'],[1,'#F3F10F']]),\n",
    "        dimensions = list([\n",
    "            dict(range = [0,1],\n",
    "                constraintrange = [0,1],\n",
    "                label = 'Color Intensity', values = X_norm['Color_Intensity']),\n",
    "            dict(range = [0,1],\n",
    "                label = 'Magnesium', values = X_norm['Magnesium']),\n",
    "            dict(range = [0,1],\n",
    "                label = 'Total_Phenols', values = X_norm['Total_Phenols']),\n",
    "            dict(range = [0,1],\n",
    "                label = 'Malic Acid', values = X_norm['Malic_Acid'])\n",
    "        ])\n",
    "    )\n",
    "]\n",
    "\n",
    "layout = go.Layout(\n",
    "    plot_bgcolor = '#E5E5E5',\n",
    "    paper_bgcolor = '#E5E5E5'\n",
    ")\n",
    "\n",
    "fig = go.Figure(data = data, layout = layout)\n",
    "py.iplot(fig, filename = 'parcoords-basic')"
   ]
  },
  {
   "cell_type": "code",
   "execution_count": null,
   "metadata": {},
   "outputs": [],
   "source": []
  }
 ],
 "metadata": {
  "kernelspec": {
   "display_name": "Python 3",
   "language": "python",
   "name": "python3"
  }
 },
 "nbformat": 4,
 "nbformat_minor": 2
}
